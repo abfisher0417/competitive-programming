{
 "cells": [
  {
   "cell_type": "code",
   "execution_count": 36,
   "id": "c8ac1bee",
   "metadata": {},
   "outputs": [
    {
     "name": "stdout",
     "output_type": "stream",
     "text": [
      "Part 1 Sample Result: 24000\n",
      "Part 1 Final Result: 65912\n",
      "Part 2 Sample Result: 45000\n",
      "Part 2 Final Result: 195625\n"
     ]
    }
   ],
   "source": [
    "\"\"\"\n",
    "DAY 1\n",
    "\"\"\"\n",
    "\n",
    "import heapq\n",
    "\n",
    "def day1(file, num=1):\n",
    "    h = []\n",
    "    total = 0\n",
    "    with open(file) as f:\n",
    "        for line in f:\n",
    "            if line == '\\n':\n",
    "                heapq.heappush(h, -1 * total)\n",
    "                total = 0\n",
    "                continue\n",
    "            total += int(line.strip())\n",
    "    # Push last entry\n",
    "    if total > 0:\n",
    "        heapq.heappush(h, -1 * total)\n",
    "    return sum([heapq.heappop(h) * -1 for i in range(num)])\n",
    "\n",
    "print(f\"Part 1 Sample Result: {day1('./input/day1_sample.txt')}\")\n",
    "print(f\"Part 1 Final Result: {day1('./input/day1.txt')}\")\n",
    "print(f\"Part 2 Sample Result: {day1('./input/day1_sample.txt', 3)}\")\n",
    "print(f\"Part 2 Final Result: {day1('./input/day1.txt', 3)}\")"
   ]
  },
  {
   "cell_type": "code",
   "execution_count": 37,
   "id": "b300d3f8",
   "metadata": {},
   "outputs": [
    {
     "name": "stdout",
     "output_type": "stream",
     "text": [
      "Part 1 Sample Result: p2 15\n",
      "Part 1 Result: p2 12535\n"
     ]
    }
   ],
   "source": [
    "\"\"\"\n",
    "DAY 2, PART 1\n",
    "\"\"\"\n",
    "\n",
    "\"\"\"\n",
    "3x3 rules matrix for the game rocks, paper, scissors.\n",
    "Player 1's move is encoded along the y-axis whereas player 2's move is encoded on the x-axis.\n",
    "0 = rocks, 1 = paper, 2 = scissors\n",
    "\"\"\"\n",
    "symbol_to_move_map = {\n",
    "    \"A\": 0,\n",
    "    \"B\": 1,\n",
    "    \"C\": 2,\n",
    "    \"X\": 0,\n",
    "    \"Y\": 1,\n",
    "    \"Z\": 2,\n",
    "}\n",
    "\n",
    "move_score = [1, 2, 3]\n",
    "\n",
    "# 0 = draw; 1 = player 1 wins; 2 = player 2 wins\n",
    "rules_matrix = [\n",
    "    [0, 2, 1],\n",
    "    [1, 0, 2],\n",
    "    [2, 1, 0]\n",
    "]\n",
    "\n",
    "def day2(file):\n",
    "    player2_score = 0\n",
    "    with open(file) as f:\n",
    "        for line in f:\n",
    "            move1, move2 = [symbol_to_move_map[move] for move in line.strip().split(\" \")]\n",
    "            \n",
    "            player2_score += move_score[move2]\n",
    "            \n",
    "            game_result = rules_matrix[move1][move2]\n",
    "            \n",
    "            if game_result == 0:\n",
    "                player2_score += 3\n",
    "            elif game_result == 2:\n",
    "                player2_score += 6\n",
    "\n",
    "        return player2_score\n",
    "\n",
    "p2 = day2('./input/day2_sample.txt')\n",
    "print(f\"Part 1 Sample Result: p2 {p2}\")\n",
    "p2 = day2('./input/day2.txt')\n",
    "print(f\"Part 1 Result: p2 {p2}\")"
   ]
  },
  {
   "cell_type": "code",
   "execution_count": 38,
   "id": "9ee85c9a",
   "metadata": {},
   "outputs": [
    {
     "name": "stdout",
     "output_type": "stream",
     "text": [
      "Part 2 Sample Result: p2 12\n",
      "Part 2 Result: p2 15457\n"
     ]
    }
   ],
   "source": [
    "\"\"\"\n",
    "DAY 2, PART 2\n",
    "\"\"\"\n",
    "\n",
    "rules_matrix = [\n",
    "    [2, 0, 1],\n",
    "    [0, 1, 2],\n",
    "    [1, 2, 0]\n",
    "]\n",
    "\n",
    "def day2_part2(file):\n",
    "    player2_score = 0\n",
    "    with open(file) as f:\n",
    "        for line in f:\n",
    "            move1, game_result = [symbol_to_move_map[move] for move in line.strip().split(\" \")]\n",
    "            \n",
    "            move2 = rules_matrix[move1][game_result]\n",
    "            \n",
    "            player2_score += move_score[move2]\n",
    "            \n",
    "            if game_result == 1:\n",
    "                player2_score += 3\n",
    "            elif game_result == 2:\n",
    "                player2_score += 6\n",
    "\n",
    "        return player2_score\n",
    "\n",
    "p2 = day2_part2('./input/day2_sample.txt')\n",
    "print(f\"Part 2 Sample Result: p2 {p2}\")\n",
    "p2 = day2_part2('./input/day2.txt')\n",
    "print(f\"Part 2 Result: p2 {p2}\")"
   ]
  },
  {
   "cell_type": "code",
   "execution_count": 39,
   "id": "92962549",
   "metadata": {},
   "outputs": [
    {
     "name": "stdout",
     "output_type": "stream",
     "text": [
      "Part 1 Sample Result: 157\n",
      "Part 1 Final Result: 7716\n"
     ]
    }
   ],
   "source": [
    "\"\"\"\n",
    "DAY 3, PART 1\n",
    "\"\"\"\n",
    "def day3(file):\n",
    "    result = 0\n",
    "    with open(file) as f:\n",
    "        for line in f:\n",
    "            line = line.strip()\n",
    "            \n",
    "            n = len(line) // 2\n",
    "\n",
    "            compartment1 = set(line[0:n])\n",
    "            compartment2 = set(line[n:])\n",
    "            \n",
    "            common_item, = compartment1 & compartment2\n",
    "            \n",
    "            priority = ord(common_item)\n",
    "            \n",
    "            if priority >= 97:\n",
    "                priority -= 96\n",
    "            else:\n",
    "                priority -= 38\n",
    "                \n",
    "            result += priority\n",
    "    return result\n",
    "\n",
    "print(f\"Part 1 Sample Result: {day3('./input/day3_sample.txt')}\")\n",
    "print(f\"Part 1 Final Result: {day3('./input/day3.txt')}\")"
   ]
  },
  {
   "cell_type": "code",
   "execution_count": 40,
   "id": "9610c89a",
   "metadata": {},
   "outputs": [
    {
     "name": "stdout",
     "output_type": "stream",
     "text": [
      "Part 2 Sample Result: 70\n",
      "Part 2 Final Result: 2973\n"
     ]
    }
   ],
   "source": [
    "\"\"\"\n",
    "DAY 3, PART 2\n",
    "\"\"\"\n",
    "def day3_part2(file):\n",
    "    result = 0\n",
    "    line_no = 0\n",
    "    rucksacks = []\n",
    "    with open(file) as f:\n",
    "        for line in f:\n",
    "            rucksacks.append(line.strip())\n",
    "            line_no += 1\n",
    "            \n",
    "            if line_no % 3 != 0:\n",
    "                continue\n",
    "            \n",
    "            common_item, = set(rucksacks[0]) & set(rucksacks[1]) & set(rucksacks[2])\n",
    "\n",
    "            priority = ord(common_item)\n",
    "            \n",
    "            if priority >= 97:\n",
    "                priority -= 96\n",
    "            else:\n",
    "                priority -= 38\n",
    "                \n",
    "            result += priority\n",
    "            \n",
    "            rucksacks = []\n",
    "    return result\n",
    "\n",
    "print(f\"Part 2 Sample Result: {day3_part2('./input/day3_sample.txt')}\")\n",
    "print(f\"Part 2 Final Result: {day3_part2('./input/day3.txt')}\")"
   ]
  },
  {
   "cell_type": "code",
   "execution_count": 8,
   "id": "3d212e14",
   "metadata": {},
   "outputs": [
    {
     "name": "stdout",
     "output_type": "stream",
     "text": [
      "Part 1 Sample Result: 2\n",
      "Part 1 Final Result: 485\n"
     ]
    }
   ],
   "source": [
    "\"\"\"\n",
    "DAY 4, PART 1\n",
    "\"\"\"\n",
    "def day4(file):\n",
    "    cnt = 0\n",
    "\n",
    "    with open(file) as f:\n",
    "        for line in f:\n",
    "            assignments = line.strip().split(\",\")\n",
    "            a_start, a_end = [int(a) for a in assignments[0].split(\"-\")]\n",
    "            b_start, b_end = [int(a) for a in assignments[1].split(\"-\")]\n",
    "\n",
    "            if ((a_start <= b_start and a_end >= b_end) or (b_start <= a_start and b_end >= a_end)):\n",
    "                cnt += 1\n",
    "            \n",
    "    return cnt\n",
    "\n",
    "print(f\"Part 1 Sample Result: {day4('./input/day4_sample.txt')}\")\n",
    "print(f\"Part 1 Final Result: {day4('./input/day4.txt')}\")"
   ]
  },
  {
   "cell_type": "code",
   "execution_count": 11,
   "id": "3d573a6c",
   "metadata": {},
   "outputs": [
    {
     "name": "stdout",
     "output_type": "stream",
     "text": [
      "Part 2 Sample Result: 4\n",
      "Part 2 Final Result: 857\n"
     ]
    }
   ],
   "source": [
    "\"\"\"\n",
    "DAY 4, PART 2\n",
    "\"\"\"\n",
    "def day4_part2(file):\n",
    "    cnt = 0\n",
    "\n",
    "    with open(file) as f:\n",
    "        for line in f:\n",
    "            assignments = line.strip().split(\",\")\n",
    "            a_start, a_end = [int(a) for a in assignments[0].split(\"-\")]\n",
    "            b_start, b_end = [int(a) for a in assignments[1].split(\"-\")]\n",
    "            if (b_start <= a_start <= b_end or b_start <= a_end <= b_end or a_start <= b_start <= a_end or a_start <= b_start <= a_end):\n",
    "                cnt += 1\n",
    "            \n",
    "    return cnt\n",
    "\n",
    "print(f\"Part 2 Sample Result: {day4_part2('./input/day4_sample.txt')}\")\n",
    "print(f\"Part 2 Final Result: {day4_part2('./input/day4.txt')}\")"
   ]
  },
  {
   "cell_type": "code",
   "execution_count": 115,
   "id": "ea126a2c",
   "metadata": {},
   "outputs": [
    {
     "name": "stdout",
     "output_type": "stream",
     "text": [
      "Part 1 Sample Result: CMZ\n",
      "Part 1 Final Result: TDCHVHJTG\n",
      "Part 2 Sample Result: MCD\n",
      "Part 2 Final Result: NGCMPJLHV\n"
     ]
    }
   ],
   "source": [
    "import re\n",
    "from collections import deque\n",
    "\n",
    "\"\"\"\n",
    "DAY 5\n",
    "\"\"\"\n",
    "def day5(file, maintain_order=False):\n",
    "    crates = []\n",
    "    stacks = []\n",
    "    instructions = []\n",
    "    \n",
    "    with open(file) as f:\n",
    "        for line in f:\n",
    "            line = line.replace(\"\\n\", \"\")\n",
    "            if line == \"\":\n",
    "                continue\n",
    "            \n",
    "            instruction = re.match(r\"^move (\\d+) from (\\d+) to (\\d+)$\", line)\n",
    "            if instruction:\n",
    "                instructions.append([int(num) for num in instruction.groups()])\n",
    "                continue\n",
    "            \n",
    "            num_stacks = re.match(r\"^.*(\\d+) $\", line)\n",
    "            if num_stacks:\n",
    "                for _ in range(int(num_stacks.group(1))):\n",
    "                    stacks.append(deque())\n",
    "                continue\n",
    "\n",
    "            row = []\n",
    "            n = len(line)\n",
    "            for i in range(0, n - 2, 4):\n",
    "                crate = line[i:i+3].replace('[', '').replace(']', '') if line[i:i+3].strip() != '' else None\n",
    "                row.append(crate)\n",
    "            crates.append(row)\n",
    "            \n",
    "    for i in range(len(crates) - 1, -1, -1):\n",
    "        row = crates[i]\n",
    "        for j, crate in enumerate(row):\n",
    "            if crate:\n",
    "                stacks[j].appendleft(crate)\n",
    "    \n",
    "    for instruction in instructions:\n",
    "        num_crates, from_idx, to_idx = instruction\n",
    "        from_idx -= 1\n",
    "        to_idx -= 1\n",
    "        \n",
    "        if not maintain_order:\n",
    "            for _ in range(num_crates):\n",
    "                crate = stacks[from_idx].popleft()\n",
    "                stacks[to_idx].appendleft(crate)\n",
    "        else:\n",
    "            temp = deque()\n",
    "            for _ in range(num_crates):\n",
    "                crate = stacks[from_idx].popleft()\n",
    "                temp.append(crate)\n",
    "            \n",
    "            for _ in range(num_crates):\n",
    "                crate = temp.pop()\n",
    "                stacks[to_idx].appendleft(crate)\n",
    "    \n",
    "    return ''.join([stack.popleft() for stack in stacks])\n",
    "\n",
    "                              \n",
    "print(f\"Part 1 Sample Result: {day5('./input/day5_sample.txt')}\")\n",
    "print(f\"Part 1 Final Result: {day5('./input/day5.txt')}\")\n",
    "print(f\"Part 2 Sample Result: {day5('./input/day5_sample.txt', maintain_order=True)}\")\n",
    "print(f\"Part 2 Final Result: {day5('./input/day5.txt', maintain_order=True)}\")"
   ]
  },
  {
   "cell_type": "code",
   "execution_count": null,
   "id": "5257c9cb",
   "metadata": {},
   "outputs": [],
   "source": []
  }
 ],
 "metadata": {
  "kernelspec": {
   "display_name": "Python 3 (ipykernel)",
   "language": "python",
   "name": "python3"
  },
  "language_info": {
   "codemirror_mode": {
    "name": "ipython",
    "version": 3
   },
   "file_extension": ".py",
   "mimetype": "text/x-python",
   "name": "python",
   "nbconvert_exporter": "python",
   "pygments_lexer": "ipython3",
   "version": "3.8.13"
  }
 },
 "nbformat": 4,
 "nbformat_minor": 5
}
