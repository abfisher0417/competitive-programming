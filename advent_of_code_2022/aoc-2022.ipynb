{
 "cells": [
  {
   "cell_type": "code",
   "execution_count": 36,
   "id": "c8ac1bee",
   "metadata": {},
   "outputs": [
    {
     "name": "stdout",
     "output_type": "stream",
     "text": [
      "Part 1 Sample Result: 24000\n",
      "Part 1 Final Result: 65912\n",
      "Part 2 Sample Result: 45000\n",
      "Part 2 Final Result: 195625\n"
     ]
    }
   ],
   "source": [
    "\"\"\"\n",
    "DAY 1\n",
    "\"\"\"\n",
    "\n",
    "import heapq\n",
    "\n",
    "def day1(file, num=1):\n",
    "    h = []\n",
    "    total = 0\n",
    "    with open(file) as f:\n",
    "        for line in f:\n",
    "            if line == '\\n':\n",
    "                heapq.heappush(h, -1 * total)\n",
    "                total = 0\n",
    "                continue\n",
    "            total += int(line.strip())\n",
    "    # Push last entry\n",
    "    if total > 0:\n",
    "        heapq.heappush(h, -1 * total)\n",
    "    return sum([heapq.heappop(h) * -1 for i in range(num)])\n",
    "\n",
    "print(f\"Part 1 Sample Result: {day1('./input/day1_sample.txt')}\")\n",
    "print(f\"Part 1 Final Result: {day1('./input/day1.txt')}\")\n",
    "print(f\"Part 2 Sample Result: {day1('./input/day1_sample.txt', 3)}\")\n",
    "print(f\"Part 2 Final Result: {day1('./input/day1.txt', 3)}\")"
   ]
  },
  {
   "cell_type": "code",
   "execution_count": 37,
   "id": "b300d3f8",
   "metadata": {},
   "outputs": [
    {
     "name": "stdout",
     "output_type": "stream",
     "text": [
      "Part 1 Sample Result: p2 15\n",
      "Part 1 Result: p2 12535\n"
     ]
    }
   ],
   "source": [
    "\"\"\"\n",
    "DAY 2, PART 1\n",
    "\"\"\"\n",
    "\n",
    "\"\"\"\n",
    "3x3 rules matrix for the game rocks, paper, scissors.\n",
    "Player 1's move is encoded along the y-axis whereas player 2's move is encoded on the x-axis.\n",
    "0 = rocks, 1 = paper, 2 = scissors\n",
    "\"\"\"\n",
    "symbol_to_move_map = {\n",
    "    \"A\": 0,\n",
    "    \"B\": 1,\n",
    "    \"C\": 2,\n",
    "    \"X\": 0,\n",
    "    \"Y\": 1,\n",
    "    \"Z\": 2,\n",
    "}\n",
    "\n",
    "move_score = [1, 2, 3]\n",
    "\n",
    "# 0 = draw; 1 = player 1 wins; 2 = player 2 wins\n",
    "rules_matrix = [\n",
    "    [0, 2, 1],\n",
    "    [1, 0, 2],\n",
    "    [2, 1, 0]\n",
    "]\n",
    "\n",
    "def day2(file):\n",
    "    player2_score = 0\n",
    "    with open(file) as f:\n",
    "        for line in f:\n",
    "            move1, move2 = [symbol_to_move_map[move] for move in line.strip().split(\" \")]\n",
    "            \n",
    "            player2_score += move_score[move2]\n",
    "            \n",
    "            game_result = rules_matrix[move1][move2]\n",
    "            \n",
    "            if game_result == 0:\n",
    "                player2_score += 3\n",
    "            elif game_result == 2:\n",
    "                player2_score += 6\n",
    "\n",
    "        return player2_score\n",
    "\n",
    "p2 = day2('./input/day2_sample.txt')\n",
    "print(f\"Part 1 Sample Result: p2 {p2}\")\n",
    "p2 = day2('./input/day2.txt')\n",
    "print(f\"Part 1 Result: p2 {p2}\")"
   ]
  },
  {
   "cell_type": "code",
   "execution_count": 38,
   "id": "9ee85c9a",
   "metadata": {},
   "outputs": [
    {
     "name": "stdout",
     "output_type": "stream",
     "text": [
      "Part 2 Sample Result: p2 12\n",
      "Part 2 Result: p2 15457\n"
     ]
    }
   ],
   "source": [
    "\"\"\"\n",
    "DAY 2, PART 2\n",
    "\"\"\"\n",
    "\n",
    "rules_matrix = [\n",
    "    [2, 0, 1],\n",
    "    [0, 1, 2],\n",
    "    [1, 2, 0]\n",
    "]\n",
    "\n",
    "def day2_part2(file):\n",
    "    player2_score = 0\n",
    "    with open(file) as f:\n",
    "        for line in f:\n",
    "            move1, game_result = [symbol_to_move_map[move] for move in line.strip().split(\" \")]\n",
    "            \n",
    "            move2 = rules_matrix[move1][game_result]\n",
    "            \n",
    "            player2_score += move_score[move2]\n",
    "            \n",
    "            if game_result == 1:\n",
    "                player2_score += 3\n",
    "            elif game_result == 2:\n",
    "                player2_score += 6\n",
    "\n",
    "        return player2_score\n",
    "\n",
    "p2 = day2_part2('./input/day2_sample.txt')\n",
    "print(f\"Part 2 Sample Result: p2 {p2}\")\n",
    "p2 = day2_part2('./input/day2.txt')\n",
    "print(f\"Part 2 Result: p2 {p2}\")"
   ]
  },
  {
   "cell_type": "code",
   "execution_count": 39,
   "id": "92962549",
   "metadata": {},
   "outputs": [
    {
     "name": "stdout",
     "output_type": "stream",
     "text": [
      "Part 1 Sample Result: 157\n",
      "Part 1 Final Result: 7716\n"
     ]
    }
   ],
   "source": [
    "\"\"\"\n",
    "DAY 3, PART 1\n",
    "\"\"\"\n",
    "def day3(file):\n",
    "    result = 0\n",
    "    with open(file) as f:\n",
    "        for line in f:\n",
    "            line = line.strip()\n",
    "            \n",
    "            n = len(line) // 2\n",
    "\n",
    "            compartment1 = set(line[0:n])\n",
    "            compartment2 = set(line[n:])\n",
    "            \n",
    "            common_item, = compartment1 & compartment2\n",
    "            \n",
    "            priority = ord(common_item)\n",
    "            \n",
    "            if priority >= 97:\n",
    "                priority -= 96\n",
    "            else:\n",
    "                priority -= 38\n",
    "                \n",
    "            result += priority\n",
    "    return result\n",
    "\n",
    "print(f\"Part 1 Sample Result: {day3('./input/day3_sample.txt')}\")\n",
    "print(f\"Part 1 Final Result: {day3('./input/day3.txt')}\")"
   ]
  },
  {
   "cell_type": "code",
   "execution_count": 40,
   "id": "9610c89a",
   "metadata": {},
   "outputs": [
    {
     "name": "stdout",
     "output_type": "stream",
     "text": [
      "Part 2 Sample Result: 70\n",
      "Part 2 Final Result: 2973\n"
     ]
    }
   ],
   "source": [
    "\"\"\"\n",
    "DAY 3, PART 2\n",
    "\"\"\"\n",
    "def day3_part2(file):\n",
    "    result = 0\n",
    "    line_no = 0\n",
    "    rucksacks = []\n",
    "    with open(file) as f:\n",
    "        for line in f:\n",
    "            rucksacks.append(line.strip())\n",
    "            line_no += 1\n",
    "            \n",
    "            if line_no % 3 != 0:\n",
    "                continue\n",
    "            \n",
    "            common_item, = set(rucksacks[0]) & set(rucksacks[1]) & set(rucksacks[2])\n",
    "\n",
    "            priority = ord(common_item)\n",
    "            \n",
    "            if priority >= 97:\n",
    "                priority -= 96\n",
    "            else:\n",
    "                priority -= 38\n",
    "                \n",
    "            result += priority\n",
    "            \n",
    "            rucksacks = []\n",
    "    return result\n",
    "\n",
    "print(f\"Part 2 Sample Result: {day3_part2('./input/day3_sample.txt')}\")\n",
    "print(f\"Part 2 Final Result: {day3_part2('./input/day3.txt')}\")"
   ]
  }
 ],
 "metadata": {
  "kernelspec": {
   "display_name": "Python 3 (ipykernel)",
   "language": "python",
   "name": "python3"
  },
  "language_info": {
   "codemirror_mode": {
    "name": "ipython",
    "version": 3
   },
   "file_extension": ".py",
   "mimetype": "text/x-python",
   "name": "python",
   "nbconvert_exporter": "python",
   "pygments_lexer": "ipython3",
   "version": "3.8.13"
  }
 },
 "nbformat": 4,
 "nbformat_minor": 5
}
